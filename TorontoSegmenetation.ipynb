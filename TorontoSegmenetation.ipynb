{
    "nbformat_minor": 1, 
    "cells": [
        {
            "source": "## Capstone Project Week 3 Assignment - Toronto Segmentation and Clustering", 
            "cell_type": "markdown", 
            "metadata": {
                "collapsed": true
            }
        }, 
        {
            "source": "### (1) Use Beautiful Soup to scrap data from Wiki Page", 
            "cell_type": "markdown", 
            "metadata": {}
        }, 
        {
            "execution_count": 282, 
            "cell_type": "code", 
            "metadata": {}, 
            "outputs": [], 
            "source": "from bs4 import BeautifulSoup\nfrom urllib.request import urlopen\nimport pandas as pd\nimport numpy as np"
        }, 
        {
            "execution_count": 283, 
            "cell_type": "code", 
            "metadata": {}, 
            "outputs": [], 
            "source": "url=\"https://en.wikipedia.org/wiki/List_of_postal_codes_of_Canada:_M\""
        }, 
        {
            "execution_count": 284, 
            "cell_type": "code", 
            "metadata": {}, 
            "outputs": [], 
            "source": "with urlopen(url) as html_file:\n    soup = BeautifulSoup(html_file, 'lxml')"
        }, 
        {
            "source": "### Scrap the data and put into a dataframe\nConverted \"Not assigned\" to np.nan for easy filtering later on", 
            "cell_type": "markdown", 
            "metadata": {}
        }, 
        {
            "execution_count": 285, 
            "cell_type": "code", 
            "metadata": {
                "scrolled": false
            }, 
            "outputs": [
                {
                    "execution_count": 285, 
                    "metadata": {}, 
                    "data": {
                        "text/html": "<div>\n<style scoped>\n    .dataframe tbody tr th:only-of-type {\n        vertical-align: middle;\n    }\n\n    .dataframe tbody tr th {\n        vertical-align: top;\n    }\n\n    .dataframe thead th {\n        text-align: right;\n    }\n</style>\n<table border=\"1\" class=\"dataframe\">\n  <thead>\n    <tr style=\"text-align: right;\">\n      <th></th>\n      <th>Postal Code</th>\n      <th>Borough</th>\n      <th>Neighborhood</th>\n    </tr>\n  </thead>\n  <tbody>\n    <tr>\n      <th>0</th>\n      <td>M1A</td>\n      <td>NaN</td>\n      <td>NaN</td>\n    </tr>\n    <tr>\n      <th>1</th>\n      <td>M2A</td>\n      <td>NaN</td>\n      <td>NaN</td>\n    </tr>\n    <tr>\n      <th>2</th>\n      <td>M3A</td>\n      <td>North York</td>\n      <td>Parkwoods</td>\n    </tr>\n    <tr>\n      <th>3</th>\n      <td>M4A</td>\n      <td>North York</td>\n      <td>Victoria Village</td>\n    </tr>\n    <tr>\n      <th>4</th>\n      <td>M5A</td>\n      <td>Downtown Toronto</td>\n      <td>Harbourfront</td>\n    </tr>\n  </tbody>\n</table>\n</div>", 
                        "text/plain": "  Postal Code           Borough      Neighborhood\n0         M1A               NaN               NaN\n1         M2A               NaN               NaN\n2         M3A        North York         Parkwoods\n3         M4A        North York  Victoria Village\n4         M5A  Downtown Toronto      Harbourfront"
                    }, 
                    "output_type": "execute_result"
                }
            ], 
            "source": "    table = soup.find('table', class_= 'wikitable sortable')\n    row_marker = 0\n    all_rows=[]\n    for row in table.find_all('tr'):\n        column_marker = 0\n        columns = row.find_all('td')\n        thisrow=[]\n        for column in columns:\n            val = column.get_text().strip()\n            if  (val == 'Not assigned'):\n                thisrow.append(np.nan)\n            else:\n                 thisrow.append(column.get_text().strip())\n                    \n        # If this td has data, append to the dataframe\n        if  thisrow:\n            all_rows.append(thisrow)\n    df = pd.DataFrame(all_rows, columns =['Postal Code', 'Borough', 'Neighborhood'], dtype = str) \n    df.head()"
        }, 
        {
            "source": "### (2) Clean the data in the dataframe\n####  Remove rows with Borough Not Assigned  ( Row count before and after)", 
            "cell_type": "markdown", 
            "metadata": {}
        }, 
        {
            "execution_count": 286, 
            "cell_type": "code", 
            "metadata": {}, 
            "outputs": [
                {
                    "output_type": "stream", 
                    "name": "stdout", 
                    "text": "Rows before drop : (288, 3)\nRows after drop : (211, 3)\n"
                }
            ], 
            "source": "## Ignore rows with Borough Not Assigned\nprint (\"Rows before drop : \" + str(df.shape))\ndf.dropna(subset=['Borough'], inplace=True)\nprint (\"Rows after drop : \" + str(df.shape))"
        }, 
        {
            "source": "####  Row with unassgined neighborhood will be assigned borough (if the borough is assigned)  e.g. M7A", 
            "cell_type": "markdown", 
            "metadata": {}
        }, 
        {
            "execution_count": 287, 
            "cell_type": "code", 
            "metadata": {}, 
            "outputs": [
                {
                    "execution_count": 287, 
                    "metadata": {}, 
                    "data": {
                        "text/html": "<div>\n<style scoped>\n    .dataframe tbody tr th:only-of-type {\n        vertical-align: middle;\n    }\n\n    .dataframe tbody tr th {\n        vertical-align: top;\n    }\n\n    .dataframe thead th {\n        text-align: right;\n    }\n</style>\n<table border=\"1\" class=\"dataframe\">\n  <thead>\n    <tr style=\"text-align: right;\">\n      <th></th>\n      <th>Postal Code</th>\n      <th>Borough</th>\n      <th>Neighborhood</th>\n    </tr>\n  </thead>\n  <tbody>\n    <tr>\n      <th>8</th>\n      <td>M7A</td>\n      <td>Queen's Park</td>\n      <td>NaN</td>\n    </tr>\n  </tbody>\n</table>\n</div>", 
                        "text/plain": "  Postal Code       Borough Neighborhood\n8         M7A  Queen's Park          NaN"
                    }, 
                    "output_type": "execute_result"
                }
            ], 
            "source": "## Find rows with Neighborhood=NaN and Borough is not empty\ndf[(df['Neighborhood'].isnull())  &  (df['Borough'].notnull())] "
        }, 
        {
            "execution_count": 288, 
            "cell_type": "code", 
            "metadata": {}, 
            "outputs": [], 
            "source": "thisCondition=(df['Neighborhood'].isnull())  &  (df['Borough'].notnull())\nrowsToChange = df[thisCondition]['Borough'].index.values.astype(int)\ndf.loc[rowsToChange,'Neighborhood'] = df.loc[rowsToChange]['Borough']"
        }, 
        {
            "execution_count": 289, 
            "cell_type": "code", 
            "metadata": {}, 
            "outputs": [
                {
                    "execution_count": 289, 
                    "metadata": {}, 
                    "data": {
                        "text/html": "<div>\n<style scoped>\n    .dataframe tbody tr th:only-of-type {\n        vertical-align: middle;\n    }\n\n    .dataframe tbody tr th {\n        vertical-align: top;\n    }\n\n    .dataframe thead th {\n        text-align: right;\n    }\n</style>\n<table border=\"1\" class=\"dataframe\">\n  <thead>\n    <tr style=\"text-align: right;\">\n      <th></th>\n      <th>Postal Code</th>\n      <th>Borough</th>\n      <th>Neighborhood</th>\n    </tr>\n  </thead>\n  <tbody>\n    <tr>\n      <th>8</th>\n      <td>M7A</td>\n      <td>Queen's Park</td>\n      <td>Queen's Park</td>\n    </tr>\n  </tbody>\n</table>\n</div>", 
                        "text/plain": "  Postal Code       Borough  Neighborhood\n8         M7A  Queen's Park  Queen's Park"
                    }, 
                    "output_type": "execute_result"
                }
            ], 
            "source": "## Check value after change\ndf[df['Postal Code']=='M7A']"
        }, 
        {
            "execution_count": 290, 
            "cell_type": "code", 
            "metadata": {}, 
            "outputs": [
                {
                    "output_type": "stream", 
                    "name": "stdout", 
                    "text": "Before combine neighborhood for same postal code\n"
                }, 
                {
                    "execution_count": 290, 
                    "metadata": {}, 
                    "data": {
                        "text/html": "<div>\n<style scoped>\n    .dataframe tbody tr th:only-of-type {\n        vertical-align: middle;\n    }\n\n    .dataframe tbody tr th {\n        vertical-align: top;\n    }\n\n    .dataframe thead th {\n        text-align: right;\n    }\n</style>\n<table border=\"1\" class=\"dataframe\">\n  <thead>\n    <tr style=\"text-align: right;\">\n      <th></th>\n      <th>Postal Code</th>\n      <th>Borough</th>\n      <th>Neighborhood</th>\n    </tr>\n  </thead>\n  <tbody>\n    <tr>\n      <th>4</th>\n      <td>M5A</td>\n      <td>Downtown Toronto</td>\n      <td>Harbourfront</td>\n    </tr>\n    <tr>\n      <th>5</th>\n      <td>M5A</td>\n      <td>Downtown Toronto</td>\n      <td>Regent Park</td>\n    </tr>\n  </tbody>\n</table>\n</div>", 
                        "text/plain": "  Postal Code           Borough  Neighborhood\n4         M5A  Downtown Toronto  Harbourfront\n5         M5A  Downtown Toronto   Regent Park"
                    }, 
                    "output_type": "execute_result"
                }
            ], 
            "source": "####  Combine neighborhoods for same postal code  ( example M5A)\nprint (\"Before combine neighborhood for same postal code\")\ndf[df['Postal Code']=='M5A']"
        }, 
        {
            "execution_count": 291, 
            "cell_type": "code", 
            "metadata": {}, 
            "outputs": [
                {
                    "output_type": "stream", 
                    "name": "stdout", 
                    "text": "After combine neighborhood for same postal code\n"
                }, 
                {
                    "execution_count": 291, 
                    "metadata": {}, 
                    "data": {
                        "text/html": "<div>\n<style scoped>\n    .dataframe tbody tr th:only-of-type {\n        vertical-align: middle;\n    }\n\n    .dataframe tbody tr th {\n        vertical-align: top;\n    }\n\n    .dataframe thead th {\n        text-align: right;\n    }\n</style>\n<table border=\"1\" class=\"dataframe\">\n  <thead>\n    <tr style=\"text-align: right;\">\n      <th></th>\n      <th>Postal Code</th>\n      <th>Borough</th>\n      <th>Neighborhood</th>\n    </tr>\n  </thead>\n  <tbody>\n    <tr>\n      <th>53</th>\n      <td>M5A</td>\n      <td>Downtown Toronto</td>\n      <td>Harbourfront, Regent Park</td>\n    </tr>\n  </tbody>\n</table>\n</div>", 
                        "text/plain": "   Postal Code           Borough               Neighborhood\n53         M5A  Downtown Toronto  Harbourfront, Regent Park"
                    }, 
                    "output_type": "execute_result"
                }
            ], 
            "source": "newdf=df.groupby(['Postal Code', 'Borough'])['Neighborhood'].apply(lambda x: \"%s\" % ', '.join(x.astype(str))).reset_index()\n\nprint (\"After combine neighborhood for same postal code\")\nnewdf[newdf['Postal Code']=='M5A']"
        }, 
        {
            "source": "## Shape after cleaning data", 
            "cell_type": "markdown", 
            "metadata": {}
        }, 
        {
            "execution_count": 292, 
            "cell_type": "code", 
            "metadata": {}, 
            "outputs": [
                {
                    "execution_count": 292, 
                    "metadata": {}, 
                    "data": {
                        "text/html": "<div>\n<style scoped>\n    .dataframe tbody tr th:only-of-type {\n        vertical-align: middle;\n    }\n\n    .dataframe tbody tr th {\n        vertical-align: top;\n    }\n\n    .dataframe thead th {\n        text-align: right;\n    }\n</style>\n<table border=\"1\" class=\"dataframe\">\n  <thead>\n    <tr style=\"text-align: right;\">\n      <th></th>\n      <th>Postal Code</th>\n      <th>Borough</th>\n      <th>Neighborhood</th>\n    </tr>\n  </thead>\n  <tbody>\n    <tr>\n      <th>0</th>\n      <td>M1B</td>\n      <td>Scarborough</td>\n      <td>Rouge, Malvern</td>\n    </tr>\n    <tr>\n      <th>1</th>\n      <td>M1C</td>\n      <td>Scarborough</td>\n      <td>Highland Creek, Rouge Hill, Port Union</td>\n    </tr>\n    <tr>\n      <th>2</th>\n      <td>M1E</td>\n      <td>Scarborough</td>\n      <td>Guildwood, Morningside, West Hill</td>\n    </tr>\n    <tr>\n      <th>3</th>\n      <td>M1G</td>\n      <td>Scarborough</td>\n      <td>Woburn</td>\n    </tr>\n    <tr>\n      <th>4</th>\n      <td>M1H</td>\n      <td>Scarborough</td>\n      <td>Cedarbrae</td>\n    </tr>\n  </tbody>\n</table>\n</div>", 
                        "text/plain": "  Postal Code      Borough                            Neighborhood\n0         M1B  Scarborough                          Rouge, Malvern\n1         M1C  Scarborough  Highland Creek, Rouge Hill, Port Union\n2         M1E  Scarborough       Guildwood, Morningside, West Hill\n3         M1G  Scarborough                                  Woburn\n4         M1H  Scarborough                               Cedarbrae"
                    }, 
                    "output_type": "execute_result"
                }
            ], 
            "source": "newdf.head()"
        }, 
        {
            "execution_count": 293, 
            "cell_type": "code", 
            "metadata": {}, 
            "outputs": [
                {
                    "execution_count": 293, 
                    "metadata": {}, 
                    "data": {
                        "text/plain": "(103, 3)"
                    }, 
                    "output_type": "execute_result"
                }
            ], 
            "source": "newdf.shape"
        }, 
        {
            "execution_count": null, 
            "cell_type": "code", 
            "metadata": {}, 
            "outputs": [], 
            "source": ""
        }
    ], 
    "metadata": {
        "kernelspec": {
            "display_name": "Python 3.6", 
            "name": "python3", 
            "language": "python"
        }, 
        "language_info": {
            "mimetype": "text/x-python", 
            "nbconvert_exporter": "python", 
            "version": "3.6.8", 
            "name": "python", 
            "file_extension": ".py", 
            "pygments_lexer": "ipython3", 
            "codemirror_mode": {
                "version": 3, 
                "name": "ipython"
            }
        }
    }, 
    "nbformat": 4
}